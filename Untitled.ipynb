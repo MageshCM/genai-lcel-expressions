{
 "cells": [
  {
   "cell_type": "code",
   "execution_count": 4,
   "id": "7ea56676",
   "metadata": {
    "height": 115
   },
   "outputs": [],
   "source": [
    "# 1. Import required libraries\n",
    "from langchain.prompts import ChatPromptTemplate\n",
    "from langchain.chat_models import ChatOpenAI\n",
    "from langchain.output_parsers import PydanticOutputParser\n",
    "from pydantic import BaseModel, Field\n"
   ]
  },
  {
   "cell_type": "code",
   "execution_count": 5,
   "id": "e6a83ebb",
   "metadata": {
    "height": 132
   },
   "outputs": [],
   "source": [
    "# 2. Define output schema (Pydantic model)\n",
    "class Explanation(BaseModel):\n",
    "    summary: str = Field(description=\"Beginner-friendly explanation of the topic\")\n",
    "    length: str = Field(description=\"Length of explanation: short, medium, or long\")\n",
    "\n",
    "parser = PydanticOutputParser(pydantic_object=Explanation)\n"
   ]
  },
  {
   "cell_type": "code",
   "execution_count": 6,
   "id": "f83011ae",
   "metadata": {
    "height": 115
   },
   "outputs": [],
   "source": [
    "# 3. Define the prompt template with two parameters: topic, tone\n",
    "prompt = ChatPromptTemplate.from_template(\n",
    "    \"Write a {tone} explanation about {topic} for a beginner audience. \"\n",
    "    \"Respond in JSON with fields 'summary' and 'length'.\"\n",
    ")\n"
   ]
  },
  {
   "cell_type": "code",
   "execution_count": 7,
   "id": "381885a4",
   "metadata": {
    "height": 81
   },
   "outputs": [],
   "source": [
    "# 4. Choose the model\n",
    "# In Coursera lab, API keys & environment are already set up\n",
    "model = ChatOpenAI(model=\"gpt-3.5-turbo\")\n"
   ]
  },
  {
   "cell_type": "code",
   "execution_count": 9,
   "id": "d5d8521d",
   "metadata": {
    "height": 166
   },
   "outputs": [],
   "source": [
    "# 5. Build the chain with LLMChain (classic style)\n",
    "from langchain.chains import LLMChain\n",
    "\n",
    "chain = LLMChain(\n",
    "    prompt=prompt,\n",
    "    llm=model,\n",
    "    output_parser=parser\n",
    ")\n"
   ]
  },
  {
   "cell_type": "code",
   "execution_count": 10,
   "id": "f623e746",
   "metadata": {
    "height": 166
   },
   "outputs": [
    {
     "name": "stdout",
     "output_type": "stream",
     "text": [
      "Motivational Blockchain:\n",
      " summary='Blockchain is a revolutionary technology that allows for secure and transparent transactions without the need for a central authority. It has the potential to transform industries and create new opportunities for innovation and collaboration.' length='Blockchain technology enables secure and transparent transactions without the need for a central authority. It has the potential to revolutionize industries and foster innovation and collaboration.' \n",
      "\n",
      "Casual Cloud Computing:\n",
      " summary='Cloud computing is like renting a computer over the internet. Instead of owning and maintaining your own physical servers, you can access computing resources on-demand from a service provider.' length='short' \n",
      "\n",
      "Formal Cybersecurity:\n",
      " summary='Cybersecurity in healthcare refers to the measures and practices put in place to protect sensitive patient information and healthcare systems from cyber threats. It is crucial to ensure patient privacy, data integrity, and system availability.' length='Cybersecurity in healthcare involves protecting patient information and systems from cyber threats to ensure patient privacy, data integrity, and system availability.'\n"
     ]
    }
   ],
   "source": [
    "# 6. Run the chain with different inputs\n",
    "output1 = chain.run({\"tone\": \"motivational\", \"topic\": \"blockchain\"})\n",
    "output2 = chain.run({\"tone\": \"casual\", \"topic\": \"cloud computing\"})\n",
    "output3 = chain.run({\"tone\": \"formal\", \"topic\": \"cybersecurity in healthcare\"})\n",
    "\n",
    "print(\"Motivational Blockchain:\\n\", output1, \"\\n\")\n",
    "print(\"Casual Cloud Computing:\\n\", output2, \"\\n\")\n",
    "print(\"Formal Cybersecurity:\\n\", output3)\n"
   ]
  },
  {
   "cell_type": "code",
   "execution_count": null,
   "id": "92041b1b",
   "metadata": {
    "height": 30
   },
   "outputs": [],
   "source": []
  }
 ],
 "metadata": {
  "kernelspec": {
   "display_name": "Python 3 (ipykernel)",
   "language": "python",
   "name": "python3"
  },
  "language_info": {
   "codemirror_mode": {
    "name": "ipython",
    "version": 3
   },
   "file_extension": ".py",
   "mimetype": "text/x-python",
   "name": "python",
   "nbconvert_exporter": "python",
   "pygments_lexer": "ipython3",
   "version": "3.9.19"
  }
 },
 "nbformat": 4,
 "nbformat_minor": 5
}
